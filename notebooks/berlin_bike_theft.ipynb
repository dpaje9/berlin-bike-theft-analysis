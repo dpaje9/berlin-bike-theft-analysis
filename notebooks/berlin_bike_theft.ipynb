{
 "cells": [
  {
   "cell_type": "markdown",
   "metadata": {},
   "source": [
    "<h1> Bike theft in Berlin 2023-2024</>"
   ]
  },
  {
   "cell_type": "markdown",
   "metadata": {},
   "source": [
    "## README\n",
    "\n",
    "Data was from https://daten.berlin.de/datensaetze/fahrraddiebstahl-in-berlin\n",
    "\n",
    "Based on police statistics (data warehouse management information), daily updated data on bicycle theft crimes is made available at the planning area level. This notebook includes the data for the January 2023 to December 6, 2024 (when the data was extracted), and where the time of the crime (for crime periods) can be narrowed down to a maximum of three days.\n",
    "\n",
    "Column descriptions in English:\n",
    "\n",
    "- `ANGELEGT_AM:` Date when the police report was reported and created\n",
    "- `TATZEIT_ANFANG_DATUM:` Start date of the incident \n",
    "- `TATZEIT_ANFANG_STUNDE:` Start hour of the incident\n",
    "- `TATZEIT_ENDE_DATUM:` End date of the incident\n",
    "- `TATZEIT_ENDE_STUNDE:` End hour of the incident\n",
    "- `LOR:` Place of incident, this is a postal code\n",
    "- `SCHADENSHOEHE:` Amount of damages, cost of the bike plus other accessories like bike lock, etc\n",
    "- `VERSUCH:` Attempt to steal (nein/no, ja/yes, unbekannt/unknown)\n",
    "- `ART_DES_FAHRRADS:` Type of bike\n",
    "- `DELIKT:` Crime / Offense (bike theft)\n",
    "- `ERFASSUNGSGRUND:` Reason for report"
   ]
  },
  {
   "cell_type": "markdown",
   "metadata": {},
   "source": [
    "Some guide questions for exploring this data:\n",
    "\n",
    "- Which month have the highest incidents?\n",
    "- What day of the week does the incident occur?\n",
    "- Average cost of the damages?\n",
    "- Where does the incident happen?\n",
    "- Types of bikes that stolen?\n",
    "- For the hours, start and end time are available -- calculate average timeframe (ie. 19 to 22) per month when the incident happened"
   ]
  },
  {
   "cell_type": "markdown",
   "metadata": {},
   "source": [
    "### Imports"
   ]
  },
  {
   "cell_type": "code",
   "execution_count": 1,
   "metadata": {},
   "outputs": [],
   "source": [
    "import pandas as pd\n",
    "pd.options.mode.chained_assignment = None\n",
    "\n",
    "import numpy as np\n",
    "import seaborn as sns\n",
    "import matplotlib.pyplot as plt\n",
    "import plotly.graph_objects as go\n",
    "import plotly.express as px\n",
    "\n",
    "import warnings\n",
    "warnings.filterwarnings('ignore')"
   ]
  },
  {
   "cell_type": "code",
   "execution_count": 13,
   "metadata": {},
   "outputs": [],
   "source": [
    "#Read CSV\n",
    "\n",
    "berlin_bike_df = pd.read_csv('../data/bike_theft_berlin.csv',\n",
    "                encoding = \"ISO-8859-1\", \n",
    "                dtype={                       \n",
    "                        'LOR':'string',\n",
    "                        'VERSUCH':'string',\n",
    "                        'ART_DES_FAHRRADS':'string',\n",
    "                        'DELIKT':'string',\n",
    "                        'ERFASSUNGSGRUND':'string'\n",
    "                   },                   \n",
    "                parse_dates=[\"ANGELEGT_AM\", \"TATZEIT_ANFANG_DATUM\", \"TATZEIT_ENDE_DATUM\"], \n",
    "                date_format = '%d.%m.%Y')"
   ]
  },
  {
   "cell_type": "markdown",
   "metadata": {},
   "source": [
    "### Check data"
   ]
  },
  {
   "cell_type": "code",
   "execution_count": 14,
   "metadata": {},
   "outputs": [
    {
     "data": {
      "text/html": [
       "<div>\n",
       "<style scoped>\n",
       "    .dataframe tbody tr th:only-of-type {\n",
       "        vertical-align: middle;\n",
       "    }\n",
       "\n",
       "    .dataframe tbody tr th {\n",
       "        vertical-align: top;\n",
       "    }\n",
       "\n",
       "    .dataframe thead th {\n",
       "        text-align: right;\n",
       "    }\n",
       "</style>\n",
       "<table border=\"1\" class=\"dataframe\">\n",
       "  <thead>\n",
       "    <tr style=\"text-align: right;\">\n",
       "      <th></th>\n",
       "      <th>ANGELEGT_AM</th>\n",
       "      <th>TATZEIT_ANFANG_DATUM</th>\n",
       "      <th>TATZEIT_ANFANG_STUNDE</th>\n",
       "      <th>TATZEIT_ENDE_DATUM</th>\n",
       "      <th>TATZEIT_ENDE_STUNDE</th>\n",
       "      <th>LOR</th>\n",
       "      <th>SCHADENSHOEHE</th>\n",
       "      <th>VERSUCH</th>\n",
       "      <th>ART_DES_FAHRRADS</th>\n",
       "      <th>DELIKT</th>\n",
       "      <th>ERFASSUNGSGRUND</th>\n",
       "    </tr>\n",
       "  </thead>\n",
       "  <tbody>\n",
       "    <tr>\n",
       "      <th>0</th>\n",
       "      <td>2024-12-06</td>\n",
       "      <td>2024-12-05</td>\n",
       "      <td>19</td>\n",
       "      <td>2024-12-05</td>\n",
       "      <td>21</td>\n",
       "      <td>04300623</td>\n",
       "      <td>3000</td>\n",
       "      <td>Nein</td>\n",
       "      <td>Herrenfahrrad</td>\n",
       "      <td>Fahrraddiebstahl</td>\n",
       "      <td>Sonstiger schwerer Diebstahl von Fahrrädern</td>\n",
       "    </tr>\n",
       "    <tr>\n",
       "      <th>1</th>\n",
       "      <td>2024-12-06</td>\n",
       "      <td>2024-12-05</td>\n",
       "      <td>14</td>\n",
       "      <td>2024-12-05</td>\n",
       "      <td>20</td>\n",
       "      <td>02500835</td>\n",
       "      <td>599</td>\n",
       "      <td>Nein</td>\n",
       "      <td>Damenfahrrad</td>\n",
       "      <td>Fahrraddiebstahl</td>\n",
       "      <td>Sonstiger schwerer Diebstahl von Fahrrädern</td>\n",
       "    </tr>\n",
       "    <tr>\n",
       "      <th>2</th>\n",
       "      <td>2024-12-06</td>\n",
       "      <td>2024-12-05</td>\n",
       "      <td>12</td>\n",
       "      <td>2024-12-05</td>\n",
       "      <td>15</td>\n",
       "      <td>04501153</td>\n",
       "      <td>929</td>\n",
       "      <td>Nein</td>\n",
       "      <td>Herrenfahrrad</td>\n",
       "      <td>Fahrraddiebstahl</td>\n",
       "      <td>Sonstiger schwerer Diebstahl von Fahrrädern</td>\n",
       "    </tr>\n",
       "    <tr>\n",
       "      <th>3</th>\n",
       "      <td>2024-12-06</td>\n",
       "      <td>2024-12-05</td>\n",
       "      <td>19</td>\n",
       "      <td>2024-12-06</td>\n",
       "      <td>12</td>\n",
       "      <td>11100206</td>\n",
       "      <td>1400</td>\n",
       "      <td>Nein</td>\n",
       "      <td>Fahrrad</td>\n",
       "      <td>Fahrraddiebstahl</td>\n",
       "      <td>Sonstiger schwerer Diebstahl von Fahrrädern</td>\n",
       "    </tr>\n",
       "    <tr>\n",
       "      <th>4</th>\n",
       "      <td>2024-12-06</td>\n",
       "      <td>2024-12-06</td>\n",
       "      <td>15</td>\n",
       "      <td>2024-12-06</td>\n",
       "      <td>15</td>\n",
       "      <td>01100416</td>\n",
       "      <td>500</td>\n",
       "      <td>Nein</td>\n",
       "      <td>Fahrrad</td>\n",
       "      <td>Fahrraddiebstahl</td>\n",
       "      <td>Sonstiger schwerer Diebstahl von Fahrrädern</td>\n",
       "    </tr>\n",
       "  </tbody>\n",
       "</table>\n",
       "</div>"
      ],
      "text/plain": [
       "  ANGELEGT_AM TATZEIT_ANFANG_DATUM  TATZEIT_ANFANG_STUNDE TATZEIT_ENDE_DATUM  \\\n",
       "0  2024-12-06           2024-12-05                     19         2024-12-05   \n",
       "1  2024-12-06           2024-12-05                     14         2024-12-05   \n",
       "2  2024-12-06           2024-12-05                     12         2024-12-05   \n",
       "3  2024-12-06           2024-12-05                     19         2024-12-06   \n",
       "4  2024-12-06           2024-12-06                     15         2024-12-06   \n",
       "\n",
       "   TATZEIT_ENDE_STUNDE       LOR  SCHADENSHOEHE VERSUCH ART_DES_FAHRRADS  \\\n",
       "0                   21  04300623           3000    Nein    Herrenfahrrad   \n",
       "1                   20  02500835            599    Nein     Damenfahrrad   \n",
       "2                   15  04501153            929    Nein    Herrenfahrrad   \n",
       "3                   12  11100206           1400    Nein          Fahrrad   \n",
       "4                   15  01100416            500    Nein          Fahrrad   \n",
       "\n",
       "             DELIKT                              ERFASSUNGSGRUND  \n",
       "0  Fahrraddiebstahl  Sonstiger schwerer Diebstahl von Fahrrädern  \n",
       "1  Fahrraddiebstahl  Sonstiger schwerer Diebstahl von Fahrrädern  \n",
       "2  Fahrraddiebstahl  Sonstiger schwerer Diebstahl von Fahrrädern  \n",
       "3  Fahrraddiebstahl  Sonstiger schwerer Diebstahl von Fahrrädern  \n",
       "4  Fahrraddiebstahl  Sonstiger schwerer Diebstahl von Fahrrädern  "
      ]
     },
     "execution_count": 14,
     "metadata": {},
     "output_type": "execute_result"
    }
   ],
   "source": [
    "berlin_bike_df.head()"
   ]
  },
  {
   "cell_type": "code",
   "execution_count": 16,
   "metadata": {},
   "outputs": [
    {
     "name": "stdout",
     "output_type": "stream",
     "text": [
      "<class 'pandas.core.frame.DataFrame'>\n",
      "RangeIndex: 41723 entries, 0 to 41722\n",
      "Data columns (total 11 columns):\n",
      " #   Column                 Non-Null Count  Dtype         \n",
      "---  ------                 --------------  -----         \n",
      " 0   ANGELEGT_AM            41723 non-null  datetime64[ns]\n",
      " 1   TATZEIT_ANFANG_DATUM   41723 non-null  datetime64[ns]\n",
      " 2   TATZEIT_ANFANG_STUNDE  41723 non-null  int64         \n",
      " 3   TATZEIT_ENDE_DATUM     41723 non-null  datetime64[ns]\n",
      " 4   TATZEIT_ENDE_STUNDE    41723 non-null  int64         \n",
      " 5   LOR                    41723 non-null  string        \n",
      " 6   SCHADENSHOEHE          41723 non-null  int64         \n",
      " 7   VERSUCH                41723 non-null  string        \n",
      " 8   ART_DES_FAHRRADS       41723 non-null  string        \n",
      " 9   DELIKT                 41723 non-null  string        \n",
      " 10  ERFASSUNGSGRUND        41723 non-null  string        \n",
      "dtypes: datetime64[ns](3), int64(3), string(5)\n",
      "memory usage: 3.5 MB\n"
     ]
    }
   ],
   "source": [
    "berlin_bike_df.info()"
   ]
  },
  {
   "cell_type": "code",
   "execution_count": 129,
   "metadata": {},
   "outputs": [
    {
     "data": {
      "text/plain": [
       "array([19, 14, 12, 15, 20, 11, 16,  7, 22, 18, 21, 10, 23,  3,  9,  8, 17,\n",
       "        0,  4,  5,  2, 13,  6,  1])"
      ]
     },
     "execution_count": 129,
     "metadata": {},
     "output_type": "execute_result"
    }
   ],
   "source": [
    "berlin_bike_df['TATZEIT_ANFANG_STUNDE'].unique()"
   ]
  },
  {
   "cell_type": "code",
   "execution_count": 139,
   "metadata": {},
   "outputs": [
    {
     "data": {
      "text/plain": [
       "count    41723.000000\n",
       "mean      1209.958728\n",
       "std       1187.909895\n",
       "min          0.000000\n",
       "25%        498.000000\n",
       "50%        820.000000\n",
       "75%       1499.000000\n",
       "max      10000.000000\n",
       "Name: SCHADENSHOEHE, dtype: float64"
      ]
     },
     "execution_count": 139,
     "metadata": {},
     "output_type": "execute_result"
    }
   ],
   "source": [
    "berlin_bike_df['SCHADENSHOEHE'].describe()"
   ]
  },
  {
   "cell_type": "code",
   "execution_count": 117,
   "metadata": {},
   "outputs": [
    {
     "data": {
      "text/plain": [
       "<StringArray>\n",
       "[                    'Sonstiger schwerer Diebstahl von Fahrrädern',\n",
       "                              'Einfacher Diebstahl von Fahrrädern',\n",
       " 'Sonstiger schwerer Diebstahl in/aus Keller/Boden von Fahrrädern',\n",
       "             'Einfacher Diebstahl aus Keller/Boden von Fahrrädern']\n",
       "Length: 4, dtype: string"
      ]
     },
     "execution_count": 117,
     "metadata": {},
     "output_type": "execute_result"
    }
   ],
   "source": [
    "berlin_bike_df['ERFASSUNGSGRUND'].unique()"
   ]
  },
  {
   "cell_type": "code",
   "execution_count": 121,
   "metadata": {},
   "outputs": [
    {
     "data": {
      "text/plain": [
       "<StringArray>\n",
       "['Fahrraddiebstahl', 'Keller- und Bodeneinbruch']\n",
       "Length: 2, dtype: string"
      ]
     },
     "execution_count": 121,
     "metadata": {},
     "output_type": "execute_result"
    }
   ],
   "source": [
    "berlin_bike_df['DELIKT'].unique()"
   ]
  },
  {
   "cell_type": "code",
   "execution_count": 119,
   "metadata": {},
   "outputs": [
    {
     "data": {
      "text/plain": [
       "DELIKT\n",
       "Fahrraddiebstahl             39297\n",
       "Keller- und Bodeneinbruch     2426\n",
       "Name: count, dtype: Int64"
      ]
     },
     "execution_count": 119,
     "metadata": {},
     "output_type": "execute_result"
    }
   ],
   "source": [
    "berlin_bike_df['DELIKT'].value_counts()"
   ]
  },
  {
   "cell_type": "code",
   "execution_count": 120,
   "metadata": {},
   "outputs": [
    {
     "data": {
      "text/plain": [
       "<StringArray>\n",
       "['Nein', 'Unbekannt', 'Ja']\n",
       "Length: 3, dtype: string"
      ]
     },
     "execution_count": 120,
     "metadata": {},
     "output_type": "execute_result"
    }
   ],
   "source": [
    "berlin_bike_df['VERSUCH'].unique()"
   ]
  },
  {
   "cell_type": "code",
   "execution_count": 210,
   "metadata": {},
   "outputs": [
    {
     "data": {
      "text/plain": [
       "VERSUCH\n",
       "Nein         41535\n",
       "Ja             178\n",
       "Unbekannt       10\n",
       "Name: count, dtype: Int64"
      ]
     },
     "execution_count": 210,
     "metadata": {},
     "output_type": "execute_result"
    }
   ],
   "source": [
    "berlin_bike_df['VERSUCH'].value_counts()"
   ]
  },
  {
   "cell_type": "markdown",
   "metadata": {},
   "source": [
    "Note: Drop the Ja (only attempt was made) and Unbekannt (unclear whether it was stolen or not), then drop the column entirely"
   ]
  },
  {
   "cell_type": "code",
   "execution_count": 18,
   "metadata": {},
   "outputs": [
    {
     "data": {
      "text/plain": [
       "<StringArray>\n",
       "[    'Herrenfahrrad',      'Damenfahrrad',           'Fahrrad',\n",
       "           'Rennrad',      'Mountainbike', 'diverse Fahrräder',\n",
       "     'Lastenfahrrad',     'Kinderfahrrad']\n",
       "Length: 8, dtype: string"
      ]
     },
     "execution_count": 18,
     "metadata": {},
     "output_type": "execute_result"
    }
   ],
   "source": [
    "berlin_bike_df['ART_DES_FAHRRADS'].unique()"
   ]
  },
  {
   "cell_type": "code",
   "execution_count": 116,
   "metadata": {},
   "outputs": [
    {
     "data": {
      "text/html": [
       "<div>\n",
       "<style scoped>\n",
       "    .dataframe tbody tr th:only-of-type {\n",
       "        vertical-align: middle;\n",
       "    }\n",
       "\n",
       "    .dataframe tbody tr th {\n",
       "        vertical-align: top;\n",
       "    }\n",
       "\n",
       "    .dataframe thead th {\n",
       "        text-align: right;\n",
       "    }\n",
       "</style>\n",
       "<table border=\"1\" class=\"dataframe\">\n",
       "  <thead>\n",
       "    <tr style=\"text-align: right;\">\n",
       "      <th></th>\n",
       "      <th>ART_DES_FAHRRADS</th>\n",
       "      <th>count</th>\n",
       "    </tr>\n",
       "  </thead>\n",
       "  <tbody>\n",
       "    <tr>\n",
       "      <th>0</th>\n",
       "      <td>Herrenfahrrad</td>\n",
       "      <td>18854</td>\n",
       "    </tr>\n",
       "    <tr>\n",
       "      <th>1</th>\n",
       "      <td>Damenfahrrad</td>\n",
       "      <td>10732</td>\n",
       "    </tr>\n",
       "    <tr>\n",
       "      <th>2</th>\n",
       "      <td>Fahrrad</td>\n",
       "      <td>6631</td>\n",
       "    </tr>\n",
       "    <tr>\n",
       "      <th>3</th>\n",
       "      <td>Kinderfahrrad</td>\n",
       "      <td>1700</td>\n",
       "    </tr>\n",
       "    <tr>\n",
       "      <th>4</th>\n",
       "      <td>Mountainbike</td>\n",
       "      <td>1643</td>\n",
       "    </tr>\n",
       "    <tr>\n",
       "      <th>5</th>\n",
       "      <td>diverse Fahrräder</td>\n",
       "      <td>1182</td>\n",
       "    </tr>\n",
       "    <tr>\n",
       "      <th>6</th>\n",
       "      <td>Rennrad</td>\n",
       "      <td>821</td>\n",
       "    </tr>\n",
       "    <tr>\n",
       "      <th>7</th>\n",
       "      <td>Lastenfahrrad</td>\n",
       "      <td>160</td>\n",
       "    </tr>\n",
       "  </tbody>\n",
       "</table>\n",
       "</div>"
      ],
      "text/plain": [
       "    ART_DES_FAHRRADS  count\n",
       "0      Herrenfahrrad  18854\n",
       "1       Damenfahrrad  10732\n",
       "2            Fahrrad   6631\n",
       "3      Kinderfahrrad   1700\n",
       "4       Mountainbike   1643\n",
       "5  diverse Fahrräder   1182\n",
       "6            Rennrad    821\n",
       "7      Lastenfahrrad    160"
      ]
     },
     "execution_count": 116,
     "metadata": {},
     "output_type": "execute_result"
    }
   ],
   "source": [
    "type_bike = berlin_bike_df['ART_DES_FAHRRADS'].value_counts().reset_index()\n",
    "type_bike"
   ]
  },
  {
   "cell_type": "markdown",
   "metadata": {},
   "source": [
    "Types of bikes are not clear. Fahrrad and Diverse Fahrräder could also be Herrenfahrrad or Damenfahrrad and vice versa. Could combine them and create category called 'others'?"
   ]
  },
  {
   "cell_type": "code",
   "execution_count": 21,
   "metadata": {},
   "outputs": [
    {
     "data": {
      "text/plain": [
       "Index(['ANGELEGT_AM', 'TATZEIT_ANFANG_DATUM', 'TATZEIT_ANFANG_STUNDE',\n",
       "       'TATZEIT_ENDE_DATUM', 'TATZEIT_ENDE_STUNDE', 'LOR', 'SCHADENSHOEHE',\n",
       "       'VERSUCH', 'ART_DES_FAHRRADS', 'DELIKT', 'ERFASSUNGSGRUND'],\n",
       "      dtype='object')"
      ]
     },
     "execution_count": 21,
     "metadata": {},
     "output_type": "execute_result"
    }
   ],
   "source": [
    "berlin_bike_df.columns"
   ]
  },
  {
   "cell_type": "markdown",
   "metadata": {},
   "source": [
    "### Data cleaning"
   ]
  },
  {
   "cell_type": "markdown",
   "metadata": {},
   "source": [
    "#### Date and times "
   ]
  },
  {
   "cell_type": "code",
   "execution_count": 34,
   "metadata": {},
   "outputs": [
    {
     "data": {
      "text/html": [
       "<div>\n",
       "<style scoped>\n",
       "    .dataframe tbody tr th:only-of-type {\n",
       "        vertical-align: middle;\n",
       "    }\n",
       "\n",
       "    .dataframe tbody tr th {\n",
       "        vertical-align: top;\n",
       "    }\n",
       "\n",
       "    .dataframe thead th {\n",
       "        text-align: right;\n",
       "    }\n",
       "</style>\n",
       "<table border=\"1\" class=\"dataframe\">\n",
       "  <thead>\n",
       "    <tr style=\"text-align: right;\">\n",
       "      <th></th>\n",
       "      <th>ANGELEGT_AM</th>\n",
       "      <th>TATZEIT_ANFANG_DATUM</th>\n",
       "      <th>TATZEIT_ANFANG_STUNDE</th>\n",
       "      <th>TATZEIT_ENDE_DATUM</th>\n",
       "      <th>TATZEIT_ENDE_STUNDE</th>\n",
       "      <th>LOR</th>\n",
       "      <th>SCHADENSHOEHE</th>\n",
       "      <th>VERSUCH</th>\n",
       "      <th>ART_DES_FAHRRADS</th>\n",
       "      <th>DELIKT</th>\n",
       "      <th>ERFASSUNGSGRUND</th>\n",
       "      <th>incident_month_year</th>\n",
       "      <th>incident_year</th>\n",
       "      <th>incident_month</th>\n",
       "      <th>day_of_week</th>\n",
       "    </tr>\n",
       "  </thead>\n",
       "  <tbody>\n",
       "    <tr>\n",
       "      <th>0</th>\n",
       "      <td>2024-12-06</td>\n",
       "      <td>2024-12-05</td>\n",
       "      <td>19</td>\n",
       "      <td>2024-12-05</td>\n",
       "      <td>21</td>\n",
       "      <td>04300623</td>\n",
       "      <td>3000</td>\n",
       "      <td>Nein</td>\n",
       "      <td>Herrenfahrrad</td>\n",
       "      <td>Fahrraddiebstahl</td>\n",
       "      <td>Sonstiger schwerer Diebstahl von Fahrrädern</td>\n",
       "      <td>2024-12</td>\n",
       "      <td>2024</td>\n",
       "      <td>12</td>\n",
       "      <td>Thursday</td>\n",
       "    </tr>\n",
       "    <tr>\n",
       "      <th>1</th>\n",
       "      <td>2024-12-06</td>\n",
       "      <td>2024-12-05</td>\n",
       "      <td>14</td>\n",
       "      <td>2024-12-05</td>\n",
       "      <td>20</td>\n",
       "      <td>02500835</td>\n",
       "      <td>599</td>\n",
       "      <td>Nein</td>\n",
       "      <td>Damenfahrrad</td>\n",
       "      <td>Fahrraddiebstahl</td>\n",
       "      <td>Sonstiger schwerer Diebstahl von Fahrrädern</td>\n",
       "      <td>2024-12</td>\n",
       "      <td>2024</td>\n",
       "      <td>12</td>\n",
       "      <td>Thursday</td>\n",
       "    </tr>\n",
       "    <tr>\n",
       "      <th>2</th>\n",
       "      <td>2024-12-06</td>\n",
       "      <td>2024-12-05</td>\n",
       "      <td>12</td>\n",
       "      <td>2024-12-05</td>\n",
       "      <td>15</td>\n",
       "      <td>04501153</td>\n",
       "      <td>929</td>\n",
       "      <td>Nein</td>\n",
       "      <td>Herrenfahrrad</td>\n",
       "      <td>Fahrraddiebstahl</td>\n",
       "      <td>Sonstiger schwerer Diebstahl von Fahrrädern</td>\n",
       "      <td>2024-12</td>\n",
       "      <td>2024</td>\n",
       "      <td>12</td>\n",
       "      <td>Thursday</td>\n",
       "    </tr>\n",
       "  </tbody>\n",
       "</table>\n",
       "</div>"
      ],
      "text/plain": [
       "  ANGELEGT_AM TATZEIT_ANFANG_DATUM  TATZEIT_ANFANG_STUNDE TATZEIT_ENDE_DATUM  \\\n",
       "0  2024-12-06           2024-12-05                     19         2024-12-05   \n",
       "1  2024-12-06           2024-12-05                     14         2024-12-05   \n",
       "2  2024-12-06           2024-12-05                     12         2024-12-05   \n",
       "\n",
       "   TATZEIT_ENDE_STUNDE       LOR  SCHADENSHOEHE VERSUCH ART_DES_FAHRRADS  \\\n",
       "0                   21  04300623           3000    Nein    Herrenfahrrad   \n",
       "1                   20  02500835            599    Nein     Damenfahrrad   \n",
       "2                   15  04501153            929    Nein    Herrenfahrrad   \n",
       "\n",
       "             DELIKT                              ERFASSUNGSGRUND  \\\n",
       "0  Fahrraddiebstahl  Sonstiger schwerer Diebstahl von Fahrrädern   \n",
       "1  Fahrraddiebstahl  Sonstiger schwerer Diebstahl von Fahrrädern   \n",
       "2  Fahrraddiebstahl  Sonstiger schwerer Diebstahl von Fahrrädern   \n",
       "\n",
       "  incident_month_year  incident_year  incident_month day_of_week  \n",
       "0             2024-12           2024              12    Thursday  \n",
       "1             2024-12           2024              12    Thursday  \n",
       "2             2024-12           2024              12    Thursday  "
      ]
     },
     "execution_count": 34,
     "metadata": {},
     "output_type": "execute_result"
    }
   ],
   "source": [
    "## Creating new column for month-year\n",
    "berlin_bike_df['incident_month_year'] = berlin_bike_df['TATZEIT_ANFANG_DATUM'].dt.to_period('M')\n",
    "\n",
    "## Creating new column for incident year only\n",
    "berlin_bike_df['incident_year'] = berlin_bike_df['TATZEIT_ANFANG_DATUM'].dt.year\n",
    "\n",
    "## Creating new column for incident month only\n",
    "berlin_bike_df['incident_month'] = berlin_bike_df['TATZEIT_ANFANG_DATUM'].dt.month\n",
    "\n",
    "## Reported year (accidentally added, is now dropped)\n",
    "## berlin_bike_df['year'] = berlin_bike_df['ANGELEGT_AM'].dt.year\n",
    "\n",
    "## Creating new column for day of the week\n",
    "berlin_bike_df['day_of_week'] = berlin_bike_df['TATZEIT_ANFANG_DATUM'].dt.day_name()\n",
    "\n",
    "berlin_bike_df.head(3)"
   ]
  },
  {
   "cell_type": "markdown",
   "metadata": {},
   "source": [
    "#### Drop columns: Delikt, Erfassungsgrund, Versuch. On 'Versuch' column, drop rows with 'Ja' and 'Unbekannt'."
   ]
  },
  {
   "cell_type": "code",
   "execution_count": 35,
   "metadata": {},
   "outputs": [],
   "source": [
    "## Drop Ja & Unbekannt in Versuch column. Versuch means attempted and Ja means it was not stolen and Unbekannt means it's unclear \n",
    "\n",
    "copy_ber_bike_df = berlin_bike_df.drop(berlin_bike_df[berlin_bike_df['VERSUCH'].isin(['Ja', 'Unbekannt'])].index, inplace=True)\n",
    "\n",
    "## copy_ber_bike_df = berlin_bike_df.drop(berlin_bike_df[berlin_bike_df.VERSUCH == 'Unbekannt'].index)\n",
    "copy_ber_bike_df"
   ]
  },
  {
   "cell_type": "code",
   "execution_count": 36,
   "metadata": {},
   "outputs": [
    {
     "data": {
      "text/plain": [
       "VERSUCH\n",
       "Nein    41535\n",
       "Name: count, dtype: Int64"
      ]
     },
     "execution_count": 36,
     "metadata": {},
     "output_type": "execute_result"
    }
   ],
   "source": [
    "berlin_bike_df['VERSUCH'].value_counts()"
   ]
  },
  {
   "cell_type": "code",
   "execution_count": 37,
   "metadata": {},
   "outputs": [
    {
     "data": {
      "text/plain": [
       "Index(['ANGELEGT_AM', 'TATZEIT_ANFANG_DATUM', 'TATZEIT_ANFANG_STUNDE',\n",
       "       'TATZEIT_ENDE_DATUM', 'TATZEIT_ENDE_STUNDE', 'LOR', 'SCHADENSHOEHE',\n",
       "       'VERSUCH', 'ART_DES_FAHRRADS', 'DELIKT', 'ERFASSUNGSGRUND',\n",
       "       'incident_month_year', 'incident_year', 'incident_month',\n",
       "       'day_of_week'],\n",
       "      dtype='object')"
      ]
     },
     "execution_count": 37,
     "metadata": {},
     "output_type": "execute_result"
    }
   ],
   "source": [
    "berlin_bike_df.columns"
   ]
  },
  {
   "cell_type": "code",
   "execution_count": 38,
   "metadata": {},
   "outputs": [],
   "source": [
    "## Create DF copy to drop columns\n",
    "\n",
    "bikes_df_copy = berlin_bike_df.copy()"
   ]
  },
  {
   "cell_type": "code",
   "execution_count": 39,
   "metadata": {},
   "outputs": [],
   "source": [
    "bikes_df_copy.drop(columns=['VERSUCH', 'DELIKT', 'ERFASSUNGSGRUND'], inplace=True)"
   ]
  },
  {
   "cell_type": "code",
   "execution_count": 40,
   "metadata": {},
   "outputs": [
    {
     "data": {
      "text/html": [
       "<div>\n",
       "<style scoped>\n",
       "    .dataframe tbody tr th:only-of-type {\n",
       "        vertical-align: middle;\n",
       "    }\n",
       "\n",
       "    .dataframe tbody tr th {\n",
       "        vertical-align: top;\n",
       "    }\n",
       "\n",
       "    .dataframe thead th {\n",
       "        text-align: right;\n",
       "    }\n",
       "</style>\n",
       "<table border=\"1\" class=\"dataframe\">\n",
       "  <thead>\n",
       "    <tr style=\"text-align: right;\">\n",
       "      <th></th>\n",
       "      <th>ANGELEGT_AM</th>\n",
       "      <th>TATZEIT_ANFANG_DATUM</th>\n",
       "      <th>TATZEIT_ANFANG_STUNDE</th>\n",
       "      <th>TATZEIT_ENDE_DATUM</th>\n",
       "      <th>TATZEIT_ENDE_STUNDE</th>\n",
       "      <th>LOR</th>\n",
       "      <th>SCHADENSHOEHE</th>\n",
       "      <th>ART_DES_FAHRRADS</th>\n",
       "      <th>incident_month_year</th>\n",
       "      <th>incident_year</th>\n",
       "      <th>incident_month</th>\n",
       "      <th>day_of_week</th>\n",
       "    </tr>\n",
       "  </thead>\n",
       "  <tbody>\n",
       "    <tr>\n",
       "      <th>0</th>\n",
       "      <td>2024-12-06</td>\n",
       "      <td>2024-12-05</td>\n",
       "      <td>19</td>\n",
       "      <td>2024-12-05</td>\n",
       "      <td>21</td>\n",
       "      <td>04300623</td>\n",
       "      <td>3000</td>\n",
       "      <td>Herrenfahrrad</td>\n",
       "      <td>2024-12</td>\n",
       "      <td>2024</td>\n",
       "      <td>12</td>\n",
       "      <td>Thursday</td>\n",
       "    </tr>\n",
       "    <tr>\n",
       "      <th>1</th>\n",
       "      <td>2024-12-06</td>\n",
       "      <td>2024-12-05</td>\n",
       "      <td>14</td>\n",
       "      <td>2024-12-05</td>\n",
       "      <td>20</td>\n",
       "      <td>02500835</td>\n",
       "      <td>599</td>\n",
       "      <td>Damenfahrrad</td>\n",
       "      <td>2024-12</td>\n",
       "      <td>2024</td>\n",
       "      <td>12</td>\n",
       "      <td>Thursday</td>\n",
       "    </tr>\n",
       "  </tbody>\n",
       "</table>\n",
       "</div>"
      ],
      "text/plain": [
       "  ANGELEGT_AM TATZEIT_ANFANG_DATUM  TATZEIT_ANFANG_STUNDE TATZEIT_ENDE_DATUM  \\\n",
       "0  2024-12-06           2024-12-05                     19         2024-12-05   \n",
       "1  2024-12-06           2024-12-05                     14         2024-12-05   \n",
       "\n",
       "   TATZEIT_ENDE_STUNDE       LOR  SCHADENSHOEHE ART_DES_FAHRRADS  \\\n",
       "0                   21  04300623           3000    Herrenfahrrad   \n",
       "1                   20  02500835            599     Damenfahrrad   \n",
       "\n",
       "  incident_month_year  incident_year  incident_month day_of_week  \n",
       "0             2024-12           2024              12    Thursday  \n",
       "1             2024-12           2024              12    Thursday  "
      ]
     },
     "execution_count": 40,
     "metadata": {},
     "output_type": "execute_result"
    }
   ],
   "source": [
    "## Check if columns are dropped\n",
    "bikes_df_copy.head(2)"
   ]
  },
  {
   "cell_type": "markdown",
   "metadata": {},
   "source": [
    "<H3> Rename Columns to English </>"
   ]
  },
  {
   "cell_type": "code",
   "execution_count": 43,
   "metadata": {},
   "outputs": [],
   "source": [
    "## Renaming columns \n",
    "\n",
    "bikes_df_copy.rename(columns={\n",
    "    'ANGELEGT_AM': 'created_on', \n",
    "    'TATZEIT_ANFANG_DATUM':'incident_start_date',\n",
    "    'TATZEIT_ANFANG_STUNDE': 'incident_hour_start',\n",
    "    'TATZEIT_ENDE_DATUM': 'incident_end_date',\n",
    "    'TATZEIT_ENDE_STUNDE': 'incident_hour_end',\n",
    "    'LOR': 'lor_id', #this is Berlin postal codes, will use it later\n",
    "    'SCHADENSHOEHE': 'damage_amount',\n",
    "    'ART_DES_FAHRRADS': 'bicycle_type'}, inplace=True)"
   ]
  },
  {
   "cell_type": "code",
   "execution_count": 44,
   "metadata": {},
   "outputs": [
    {
     "data": {
      "text/html": [
       "<div>\n",
       "<style scoped>\n",
       "    .dataframe tbody tr th:only-of-type {\n",
       "        vertical-align: middle;\n",
       "    }\n",
       "\n",
       "    .dataframe tbody tr th {\n",
       "        vertical-align: top;\n",
       "    }\n",
       "\n",
       "    .dataframe thead th {\n",
       "        text-align: right;\n",
       "    }\n",
       "</style>\n",
       "<table border=\"1\" class=\"dataframe\">\n",
       "  <thead>\n",
       "    <tr style=\"text-align: right;\">\n",
       "      <th></th>\n",
       "      <th>created_on</th>\n",
       "      <th>incident_start_date</th>\n",
       "      <th>incident_hour_start</th>\n",
       "      <th>incident_end_date</th>\n",
       "      <th>incident_hour_end</th>\n",
       "      <th>lor_id</th>\n",
       "      <th>damage_amount</th>\n",
       "      <th>bicycle_type</th>\n",
       "      <th>incident_month_year</th>\n",
       "      <th>incident_year</th>\n",
       "      <th>incident_month</th>\n",
       "      <th>day_of_week</th>\n",
       "    </tr>\n",
       "  </thead>\n",
       "  <tbody>\n",
       "    <tr>\n",
       "      <th>0</th>\n",
       "      <td>2024-12-06</td>\n",
       "      <td>2024-12-05</td>\n",
       "      <td>19</td>\n",
       "      <td>2024-12-05</td>\n",
       "      <td>21</td>\n",
       "      <td>04300623</td>\n",
       "      <td>3000</td>\n",
       "      <td>Herrenfahrrad</td>\n",
       "      <td>2024-12</td>\n",
       "      <td>2024</td>\n",
       "      <td>12</td>\n",
       "      <td>Thursday</td>\n",
       "    </tr>\n",
       "    <tr>\n",
       "      <th>1</th>\n",
       "      <td>2024-12-06</td>\n",
       "      <td>2024-12-05</td>\n",
       "      <td>14</td>\n",
       "      <td>2024-12-05</td>\n",
       "      <td>20</td>\n",
       "      <td>02500835</td>\n",
       "      <td>599</td>\n",
       "      <td>Damenfahrrad</td>\n",
       "      <td>2024-12</td>\n",
       "      <td>2024</td>\n",
       "      <td>12</td>\n",
       "      <td>Thursday</td>\n",
       "    </tr>\n",
       "  </tbody>\n",
       "</table>\n",
       "</div>"
      ],
      "text/plain": [
       "  created_on incident_start_date  incident_hour_start incident_end_date  \\\n",
       "0 2024-12-06          2024-12-05                   19        2024-12-05   \n",
       "1 2024-12-06          2024-12-05                   14        2024-12-05   \n",
       "\n",
       "   incident_hour_end    lor_id  damage_amount   bicycle_type  \\\n",
       "0                 21  04300623           3000  Herrenfahrrad   \n",
       "1                 20  02500835            599   Damenfahrrad   \n",
       "\n",
       "  incident_month_year  incident_year  incident_month day_of_week  \n",
       "0             2024-12           2024              12    Thursday  \n",
       "1             2024-12           2024              12    Thursday  "
      ]
     },
     "execution_count": 44,
     "metadata": {},
     "output_type": "execute_result"
    }
   ],
   "source": [
    "## Check if columns are renamed\n",
    "bikes_df_copy.head(2)"
   ]
  },
  {
   "cell_type": "markdown",
   "metadata": {},
   "source": [
    "## Exploration Data Analysis"
   ]
  },
  {
   "cell_type": "markdown",
   "metadata": {},
   "source": [
    "### Total bikes stolen for each year "
   ]
  },
  {
   "cell_type": "code",
   "execution_count": 46,
   "metadata": {},
   "outputs": [
    {
     "data": {
      "text/html": [
       "<div>\n",
       "<style scoped>\n",
       "    .dataframe tbody tr th:only-of-type {\n",
       "        vertical-align: middle;\n",
       "    }\n",
       "\n",
       "    .dataframe tbody tr th {\n",
       "        vertical-align: top;\n",
       "    }\n",
       "\n",
       "    .dataframe thead th {\n",
       "        text-align: right;\n",
       "    }\n",
       "</style>\n",
       "<table border=\"1\" class=\"dataframe\">\n",
       "  <thead>\n",
       "    <tr style=\"text-align: right;\">\n",
       "      <th></th>\n",
       "      <th>incident_year</th>\n",
       "      <th>count</th>\n",
       "    </tr>\n",
       "  </thead>\n",
       "  <tbody>\n",
       "    <tr>\n",
       "      <th>0</th>\n",
       "      <td>2023</td>\n",
       "      <td>21887</td>\n",
       "    </tr>\n",
       "    <tr>\n",
       "      <th>1</th>\n",
       "      <td>2024</td>\n",
       "      <td>19648</td>\n",
       "    </tr>\n",
       "  </tbody>\n",
       "</table>\n",
       "</div>"
      ],
      "text/plain": [
       "   incident_year  count\n",
       "0           2023  21887\n",
       "1           2024  19648"
      ]
     },
     "execution_count": 46,
     "metadata": {},
     "output_type": "execute_result"
    }
   ],
   "source": [
    "## Counting incidents per year\n",
    "incidents_total = bikes_df_copy['incident_year'].value_counts().reset_index()\n",
    "incidents_total"
   ]
  },
  {
   "cell_type": "code",
   "execution_count": 47,
   "metadata": {},
   "outputs": [
    {
     "data": {
      "text/plain": [
       "<function matplotlib.pyplot.show(close=None, block=None)>"
      ]
     },
     "execution_count": 47,
     "metadata": {},
     "output_type": "execute_result"
    },
    {
     "data": {
      "image/png": "[encoded data removed]",
      "text/plain": [
       "<Figure size 1000x600 with 1 Axes>"
      ]
     },
     "metadata": {},
     "output_type": "display_data"
    }
   ],
   "source": [
    "## Bar plot\n",
    "\n",
    "plt.figure(figsize=(10,6))\n",
    "ax = sns.barplot(data=incidents_total, x='incident_year', y='count', palette='Blues_r')\n",
    "for container in ax.containers:\n",
    "    ax.bar_label(container)\n",
    "\n",
    "plt.title('Reported bike thefts in Berlin: 2023 and 2024')\n",
    "plt.xlabel('Year')\n",
    "plt.ylabel('Number of reports')\n",
    "plt.grid(False)\n",
    "\n",
    "#plt.xticks(rotation=90)\n",
    "plt.show"
   ]
  },
  {
   "cell_type": "markdown",
   "metadata": {},
   "source": [
    "<h3> Which months have the highest incidents? </>"
   ]
  },
  {
   "cell_type": "markdown",
   "metadata": {},
   "source": [
    "Compare each month for the 2 years, noting that December 2024 data is incomplete."
   ]
  },
  {
   "cell_type": "code",
   "execution_count": 48,
   "metadata": {},
   "outputs": [
    {
     "data": {
      "text/html": [
       "<div>\n",
       "<style scoped>\n",
       "    .dataframe tbody tr th:only-of-type {\n",
       "        vertical-align: middle;\n",
       "    }\n",
       "\n",
       "    .dataframe tbody tr th {\n",
       "        vertical-align: top;\n",
       "    }\n",
       "\n",
       "    .dataframe thead th {\n",
       "        text-align: right;\n",
       "    }\n",
       "</style>\n",
       "<table border=\"1\" class=\"dataframe\">\n",
       "  <thead>\n",
       "    <tr style=\"text-align: right;\">\n",
       "      <th></th>\n",
       "      <th>incident_month</th>\n",
       "      <th>incident_year</th>\n",
       "      <th>created_on</th>\n",
       "    </tr>\n",
       "  </thead>\n",
       "  <tbody>\n",
       "    <tr>\n",
       "      <th>0</th>\n",
       "      <td>1</td>\n",
       "      <td>2023</td>\n",
       "      <td>1414</td>\n",
       "    </tr>\n",
       "    <tr>\n",
       "      <th>1</th>\n",
       "      <td>1</td>\n",
       "      <td>2024</td>\n",
       "      <td>1040</td>\n",
       "    </tr>\n",
       "    <tr>\n",
       "      <th>2</th>\n",
       "      <td>2</td>\n",
       "      <td>2023</td>\n",
       "      <td>1333</td>\n",
       "    </tr>\n",
       "    <tr>\n",
       "      <th>3</th>\n",
       "      <td>2</td>\n",
       "      <td>2024</td>\n",
       "      <td>1331</td>\n",
       "    </tr>\n",
       "    <tr>\n",
       "      <th>4</th>\n",
       "      <td>3</td>\n",
       "      <td>2023</td>\n",
       "      <td>1675</td>\n",
       "    </tr>\n",
       "    <tr>\n",
       "      <th>5</th>\n",
       "      <td>3</td>\n",
       "      <td>2024</td>\n",
       "      <td>1641</td>\n",
       "    </tr>\n",
       "    <tr>\n",
       "      <th>6</th>\n",
       "      <td>4</td>\n",
       "      <td>2023</td>\n",
       "      <td>1489</td>\n",
       "    </tr>\n",
       "    <tr>\n",
       "      <th>7</th>\n",
       "      <td>4</td>\n",
       "      <td>2024</td>\n",
       "      <td>1862</td>\n",
       "    </tr>\n",
       "    <tr>\n",
       "      <th>8</th>\n",
       "      <td>5</td>\n",
       "      <td>2023</td>\n",
       "      <td>2220</td>\n",
       "    </tr>\n",
       "    <tr>\n",
       "      <th>9</th>\n",
       "      <td>5</td>\n",
       "      <td>2024</td>\n",
       "      <td>2159</td>\n",
       "    </tr>\n",
       "    <tr>\n",
       "      <th>10</th>\n",
       "      <td>6</td>\n",
       "      <td>2023</td>\n",
       "      <td>2423</td>\n",
       "    </tr>\n",
       "    <tr>\n",
       "      <th>11</th>\n",
       "      <td>6</td>\n",
       "      <td>2024</td>\n",
       "      <td>2156</td>\n",
       "    </tr>\n",
       "    <tr>\n",
       "      <th>12</th>\n",
       "      <td>7</td>\n",
       "      <td>2023</td>\n",
       "      <td>2316</td>\n",
       "    </tr>\n",
       "    <tr>\n",
       "      <th>13</th>\n",
       "      <td>7</td>\n",
       "      <td>2024</td>\n",
       "      <td>2095</td>\n",
       "    </tr>\n",
       "    <tr>\n",
       "      <th>14</th>\n",
       "      <td>8</td>\n",
       "      <td>2023</td>\n",
       "      <td>2137</td>\n",
       "    </tr>\n",
       "    <tr>\n",
       "      <th>15</th>\n",
       "      <td>8</td>\n",
       "      <td>2024</td>\n",
       "      <td>1873</td>\n",
       "    </tr>\n",
       "    <tr>\n",
       "      <th>16</th>\n",
       "      <td>9</td>\n",
       "      <td>2023</td>\n",
       "      <td>2412</td>\n",
       "    </tr>\n",
       "    <tr>\n",
       "      <th>17</th>\n",
       "      <td>9</td>\n",
       "      <td>2024</td>\n",
       "      <td>2137</td>\n",
       "    </tr>\n",
       "    <tr>\n",
       "      <th>18</th>\n",
       "      <td>10</td>\n",
       "      <td>2023</td>\n",
       "      <td>1909</td>\n",
       "    </tr>\n",
       "    <tr>\n",
       "      <th>19</th>\n",
       "      <td>10</td>\n",
       "      <td>2024</td>\n",
       "      <td>1808</td>\n",
       "    </tr>\n",
       "    <tr>\n",
       "      <th>20</th>\n",
       "      <td>11</td>\n",
       "      <td>2023</td>\n",
       "      <td>1559</td>\n",
       "    </tr>\n",
       "    <tr>\n",
       "      <th>21</th>\n",
       "      <td>11</td>\n",
       "      <td>2024</td>\n",
       "      <td>1391</td>\n",
       "    </tr>\n",
       "    <tr>\n",
       "      <th>22</th>\n",
       "      <td>12</td>\n",
       "      <td>2023</td>\n",
       "      <td>1000</td>\n",
       "    </tr>\n",
       "    <tr>\n",
       "      <th>23</th>\n",
       "      <td>12</td>\n",
       "      <td>2024</td>\n",
       "      <td>155</td>\n",
       "    </tr>\n",
       "  </tbody>\n",
       "</table>\n",
       "</div>"
      ],
      "text/plain": [
       "    incident_month  incident_year  created_on\n",
       "0                1           2023        1414\n",
       "1                1           2024        1040\n",
       "2                2           2023        1333\n",
       "3                2           2024        1331\n",
       "4                3           2023        1675\n",
       "5                3           2024        1641\n",
       "6                4           2023        1489\n",
       "7                4           2024        1862\n",
       "8                5           2023        2220\n",
       "9                5           2024        2159\n",
       "10               6           2023        2423\n",
       "11               6           2024        2156\n",
       "12               7           2023        2316\n",
       "13               7           2024        2095\n",
       "14               8           2023        2137\n",
       "15               8           2024        1873\n",
       "16               9           2023        2412\n",
       "17               9           2024        2137\n",
       "18              10           2023        1909\n",
       "19              10           2024        1808\n",
       "20              11           2023        1559\n",
       "21              11           2024        1391\n",
       "22              12           2023        1000\n",
       "23              12           2024         155"
      ]
     },
     "execution_count": 48,
     "metadata": {},
     "output_type": "execute_result"
    }
   ],
   "source": [
    "## Incidents per month and year\n",
    "\n",
    "incidents_month_year = bikes_df_copy.groupby(['incident_month','incident_year'])['created_on'].count().reset_index()\n",
    "## incidents_month_year.rename(columns={\"TATZEIT_ANFANG_DATUM\": \"count\"})\n",
    "incidents_month_year\n"
   ]
  },
  {
   "cell_type": "code",
   "execution_count": 49,
   "metadata": {},
   "outputs": [
    {
     "data": {
      "image/png": "[encoded data removed]",
      "text/plain": [
       "<Figure size 1200x500 with 1 Axes>"
      ]
     },
     "metadata": {},
     "output_type": "display_data"
    }
   ],
   "source": [
    "## Create a line plot that compares 2018 and 2019 data per month x=month, y=number of incidents \n",
    "\n",
    "# Specify the size of the plot\n",
    "plt.figure(figsize=(12,5))\n",
    "\n",
    "# Create the plot\n",
    "sns.lineplot(x='incident_month', y='created_on', hue='incident_year', \n",
    "             data=incidents_month_year, marker='o', palette='dark')\n",
    "\n",
    "# Labeling x a-xis with actual month instead of numbers \n",
    "plt.xticks(ticks=range(1, 13), labels=['Jan', 'Feb', 'Mar', 'Apr', 'May', 'Jun', 'Jul', 'Aug', 'Sep', 'Oct', 'Nov', 'Dec'])\n",
    "\n",
    "# Add labels to both axis\n",
    "plt.title('Reported Bicycle Theft in Berlin (2023 vs 2024)', fontsize=14)\n",
    "plt.xlabel('Month', fontsize=14)\n",
    "plt.ylabel('Number of reports', fontsize=14)\n",
    "plt.legend(title='Year')\n",
    "plt.grid(axis='y')\n",
    "\n",
    "# Show the plot\n",
    "plt.show()"
   ]
  },
  {
   "cell_type": "code",
   "execution_count": 50,
   "metadata": {},
   "outputs": [],
   "source": [
    "## Trying this with bar plot\n",
    "\n",
    "# Pivot the data for bar plotting\n",
    "#pivot_monthyear_df = incidents_month_year.pivot(index='incident_month', columns='incident_year', values='TATZEIT_ANFANG_DATUM')\n",
    "\n",
    "# Plot the grouped bar chart\n",
    "#pivot_monthyear_df.plot(kind='bar', figsize=(10, 6), width=0.8)\n",
    "## colors = ['#1E88E5', '#43A047']\n",
    "\n",
    "# Customize the plot\n",
    "#plt.title('Monthly Comparison of Incidents (2023 vs 2024)', fontsize=16)\n",
    "#plt.xlabel('Month', fontsize=14)\n",
    "#plt.ylabel('Number of Incidents', fontsize=14)\n",
    "#plt.xticks(ticks=range(0, 12), labels=['Jan', 'Feb', 'Mar', 'Apr', 'May', 'Jun', \n",
    "                                       #'Jul', 'Aug', 'Sep', 'Oct', 'Nov', 'Dec'], rotation=0)\n",
    "#plt.legend(title='Year', fontsize=12)\n",
    "#plt.grid(axis='y')\n",
    "\n",
    "# Show the plot\n",
    "#plt.tight_layout()\n",
    "#plt.show()"
   ]
  },
  {
   "cell_type": "markdown",
   "metadata": {},
   "source": [
    "<h3>Which day of the week have highest incidents?</>"
   ]
  },
  {
   "cell_type": "code",
   "execution_count": 51,
   "metadata": {},
   "outputs": [
    {
     "data": {
      "text/html": [
       "<div>\n",
       "<style scoped>\n",
       "    .dataframe tbody tr th:only-of-type {\n",
       "        vertical-align: middle;\n",
       "    }\n",
       "\n",
       "    .dataframe tbody tr th {\n",
       "        vertical-align: top;\n",
       "    }\n",
       "\n",
       "    .dataframe thead th {\n",
       "        text-align: right;\n",
       "    }\n",
       "</style>\n",
       "<table border=\"1\" class=\"dataframe\">\n",
       "  <thead>\n",
       "    <tr style=\"text-align: right;\">\n",
       "      <th></th>\n",
       "      <th>day_of_week</th>\n",
       "      <th>count</th>\n",
       "    </tr>\n",
       "  </thead>\n",
       "  <tbody>\n",
       "    <tr>\n",
       "      <th>0</th>\n",
       "      <td>Friday</td>\n",
       "      <td>6580</td>\n",
       "    </tr>\n",
       "    <tr>\n",
       "      <th>1</th>\n",
       "      <td>Wednesday</td>\n",
       "      <td>6287</td>\n",
       "    </tr>\n",
       "    <tr>\n",
       "      <th>2</th>\n",
       "      <td>Thursday</td>\n",
       "      <td>6257</td>\n",
       "    </tr>\n",
       "    <tr>\n",
       "      <th>3</th>\n",
       "      <td>Monday</td>\n",
       "      <td>6132</td>\n",
       "    </tr>\n",
       "    <tr>\n",
       "      <th>4</th>\n",
       "      <td>Tuesday</td>\n",
       "      <td>6097</td>\n",
       "    </tr>\n",
       "    <tr>\n",
       "      <th>5</th>\n",
       "      <td>Saturday</td>\n",
       "      <td>5511</td>\n",
       "    </tr>\n",
       "    <tr>\n",
       "      <th>6</th>\n",
       "      <td>Sunday</td>\n",
       "      <td>4671</td>\n",
       "    </tr>\n",
       "  </tbody>\n",
       "</table>\n",
       "</div>"
      ],
      "text/plain": [
       "  day_of_week  count\n",
       "0      Friday   6580\n",
       "1   Wednesday   6287\n",
       "2    Thursday   6257\n",
       "3      Monday   6132\n",
       "4     Tuesday   6097\n",
       "5    Saturday   5511\n",
       "6      Sunday   4671"
      ]
     },
     "execution_count": 51,
     "metadata": {},
     "output_type": "execute_result"
    }
   ],
   "source": [
    "## Creating new variable \n",
    "\n",
    "incidents_week = bikes_df_copy['day_of_week'].value_counts().reset_index()\n",
    "incidents_week"
   ]
  },
  {
   "cell_type": "code",
   "execution_count": 52,
   "metadata": {},
   "outputs": [],
   "source": [
    "ordered_days = [\"Monday\", \"Tuesday\", \"Wednesday\", \"Thursday\", \"Friday\", \"Saturday\", \"Sunday\"]\n",
    "incidents_week[\"day_of_week\"] = pd.Categorical(incidents_week[\"day_of_week\"], categories=ordered_days, ordered=True)\n",
    "sorted_week = incidents_week.sort_values(\"day_of_week\")"
   ]
  },
  {
   "cell_type": "code",
   "execution_count": 53,
   "metadata": {},
   "outputs": [
    {
     "data": {
      "image/png": "[encoded data removed]",
      "text/plain": [
       "<Figure size 1000x500 with 1 Axes>"
      ]
     },
     "metadata": {},
     "output_type": "display_data"
    }
   ],
   "source": [
    "# Plot the histogram\n",
    "plt.figure(figsize=(10, 5))\n",
    "plt.hist(sorted_week[\"day_of_week\"], weights=sorted_week[\"count\"], bins=len(sorted_week), color=\"lightblue\", edgecolor=\"gray\")\n",
    "\n",
    "bar_centers = np.arange(len(sorted_week[\"day_of_week\"]))\n",
    "plt.plot(bar_centers, sorted_week[\"count\"], color=\"red\", linestyle=\"-\", linewidth=2, label=\"Trendline\")\n",
    "\n",
    "# Add titles and labels\n",
    "plt.title(\"Bike theft in Berlin by day\")\n",
    "plt.xlabel(\"Day of the Week\")\n",
    "plt.ylabel(\"Number of reported bike theft\")\n",
    "plt.xticks(fontsize=10)\n",
    "plt.grid(False)\n",
    "#plt.tight_layout()\n",
    "\n",
    "# Show the plot\n",
    "plt.show()"
   ]
  },
  {
   "cell_type": "markdown",
   "metadata": {},
   "source": [
    "Create a histogram for 2023 only with monthly, weekly stat?"
   ]
  },
  {
   "cell_type": "markdown",
   "metadata": {},
   "source": [
    "<h3> Average amount of damages </>"
   ]
  },
  {
   "cell_type": "markdown",
   "metadata": {},
   "source": [
    "Separate 2023 and 2024 data"
   ]
  },
  {
   "cell_type": "code",
   "execution_count": 293,
   "metadata": {},
   "outputs": [
    {
     "data": {
      "text/plain": [
       "count    41535.000000\n",
       "mean      1215.231227\n",
       "std       1187.892566\n",
       "min          0.000000\n",
       "25%        499.000000\n",
       "50%        828.000000\n",
       "75%       1500.000000\n",
       "max      10000.000000\n",
       "Name: damage_amount, dtype: float64"
      ]
     },
     "execution_count": 293,
     "metadata": {},
     "output_type": "execute_result"
    }
   ],
   "source": [
    "bikes_df_copy['damage_amount'].describe()"
   ]
  },
  {
   "cell_type": "code",
   "execution_count": 297,
   "metadata": {},
   "outputs": [
    {
     "data": {
      "text/plain": [
       "np.float64(1215.2312266762972)"
      ]
     },
     "execution_count": 297,
     "metadata": {},
     "output_type": "execute_result"
    }
   ],
   "source": [
    "bikes_df_copy['damage_amount'].mean()"
   ]
  },
  {
   "cell_type": "code",
   "execution_count": 300,
   "metadata": {},
   "outputs": [
    {
     "data": {
      "text/plain": [
       "60     0\n",
       "73     0\n",
       "90     0\n",
       "120    0\n",
       "126    0\n",
       "Name: damage_amount, dtype: int64"
      ]
     },
     "execution_count": 300,
     "metadata": {},
     "output_type": "execute_result"
    }
   ],
   "source": [
    "bikes_df_copy['damage_amount'].nsmallest()"
   ]
  },
  {
   "cell_type": "code",
   "execution_count": 303,
   "metadata": {},
   "outputs": [
    {
     "data": {
      "text/plain": [
       "1906    10000\n",
       "2966    10000\n",
       "5445    10000\n",
       "6836    10000\n",
       "8145    10000\n",
       "Name: damage_amount, dtype: int64"
      ]
     },
     "execution_count": 303,
     "metadata": {},
     "output_type": "execute_result"
    }
   ],
   "source": [
    "bikes_df_copy['damage_amount'].nlargest()"
   ]
  },
  {
   "cell_type": "code",
   "execution_count": 312,
   "metadata": {},
   "outputs": [
    {
     "data": {
      "text/plain": [
       "created_on             3483\n",
       "incident_start_date    3483\n",
       "incident_hour_start    3483\n",
       "incident_end_date      3483\n",
       "incident_hour_end      3483\n",
       "lor_id                 3483\n",
       "damage_amount          3483\n",
       "bicycle_type           3483\n",
       "incident_month_year    3483\n",
       "incident_year          3483\n",
       "incident_month         3483\n",
       "day_of_week            3483\n",
       "dtype: int64"
      ]
     },
     "execution_count": 312,
     "metadata": {},
     "output_type": "execute_result"
    }
   ],
   "source": [
    "bikes_df_copy[bikes_df_copy['damage_amount'] >= 3000].count()"
   ]
  },
  {
   "cell_type": "code",
   "execution_count": 299,
   "metadata": {},
   "outputs": [
    {
     "data": {
      "text/plain": [
       "<function matplotlib.pyplot.show(close=None, block=None)>"
      ]
     },
     "execution_count": 299,
     "metadata": {},
     "output_type": "execute_result"
    },
    {
     "data": {
      "image/png": "[encoded data removed]",
      "text/plain": [
       "<Figure size 1200x300 with 1 Axes>"
      ]
     },
     "metadata": {},
     "output_type": "display_data"
    }
   ],
   "source": [
    "plt.figure(figsize=(12,3))\n",
    "sns.boxplot(data=bikes_df_copy, x='damage_amount')\n",
    "plt.show"
   ]
  },
  {
   "cell_type": "code",
   "execution_count": null,
   "metadata": {},
   "outputs": [
    {
     "data": {
      "text/plain": [
       "<function matplotlib.pyplot.show(close=None, block=None)>"
      ]
     },
     "execution_count": 304,
     "metadata": {},
     "output_type": "execute_result"
    },
    {
     "data": {
      "image/png": "[encoded data removed]",
      "text/plain": [
       "<Figure size 1000x500 with 1 Axes>"
      ]
     },
     "metadata": {},
     "output_type": "display_data"
    }
   ],
   "source": [
    "plt.figure(figsize=(10,5))\n",
    "sns.histplot(data=bikes_df_copy, x=\"damage_amount\")\n",
    "plt.show\n",
    "\n",
    "#kde=True to show the trend line"
   ]
  },
  {
   "cell_type": "markdown",
   "metadata": {},
   "source": [
    "<h3> Merging LORs from 2 datasets </>"
   ]
  },
  {
   "cell_type": "code",
   "execution_count": null,
   "metadata": {},
   "outputs": [],
   "source": [
    "## READ CSVs\n",
    "\n",
    "## ber_lor_df = pd.read_csv('/Users/dee/Desktop/DA_Oct24/Final_project/Fahrraddiebstahl/Fahrraddiebstahl.csv',\n",
    "                ## encoding = \"ISO-8859-1\")\n"
   ]
  },
  {
   "cell_type": "code",
   "execution_count": null,
   "metadata": {},
   "outputs": [],
   "source": [
    "## Counting incidents per year per LOR / CITY\n",
    "\n",
    "##berlin_bike_df.pivot_table(\n",
    "    #index='LOR', \n",
    "    #columns='year', \n",
    "    #aggfunc='size', \n",
    "    #fill_value=0  # Fill missing values with 0\n",
    "#)"
   ]
  }
 ],
 "metadata": {
  "kernelspec": {
   "display_name": "DataAnalytics",
   "language": "python",
   "name": "python3"
  },
  "language_info": {
   "codemirror_mode": {
    "name": "ipython",
    "version": 3
   },
   "file_extension": ".py",
   "mimetype": "text/x-python",
   "name": "python",
   "nbconvert_exporter": "python",
   "pygments_lexer": "ipython3",
   "version": "3.12.4"
  }
 },
 "nbformat": 4,
 "nbformat_minor": 2
}
